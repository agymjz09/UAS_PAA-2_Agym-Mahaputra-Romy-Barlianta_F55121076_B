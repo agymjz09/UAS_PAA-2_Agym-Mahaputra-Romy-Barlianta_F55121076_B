{
  "nbformat": 4,
  "nbformat_minor": 0,
  "metadata": {
    "colab": {
      "provenance": []
    },
    "kernelspec": {
      "name": "python3",
      "display_name": "Python 3"
    },
    "language_info": {
      "name": "python"
    }
  },
  "cells": [
    {
      "cell_type": "code",
      "execution_count": null,
      "metadata": {
        "id": "SBxIjE0O9aCR"
      },
      "outputs": [],
      "source": [
        "# Agym Mahaputra Romy Barlianta\n",
        "# F55121076\n",
        "# B\n",
        "\n",
        "import time\n",
        "\n",
        "def bubble_sort(arr):\n",
        "    n = len(arr)\n",
        "    start_time = time.time()\n",
        "    for i in range(n):\n",
        "        for j in range(n-i-1):\n",
        "            if arr[j] > arr[j+1]:\n",
        "                arr[j], arr[j+1] = arr[j+1], arr[j]\n",
        "        if i < 5 or i >= n-5:\n",
        "            print(f\"Iterasi {i+1}: {arr}\")\n",
        "    end_time = time.time()\n",
        "    print(f\"\\nWaktu komputasi: {end_time - start_time} detik\")\n",
        "    print(f\"Hasil setelah pengurutan: {arr}\")\n",
        "\n",
        "def insertion_sort(arr):\n",
        "    n = len(arr)\n",
        "    start_time = time.time()\n",
        "    for i in range(1, n):\n",
        "        key = arr[i]\n",
        "        j = i-1\n",
        "        while j >= 0 and arr[j] > key:\n",
        "            arr[j+1] = arr[j]\n",
        "            j -= 1\n",
        "        arr[j+1] = key\n",
        "        if i < 5 or i >= n-5:\n",
        "            print(f\"Iterasi {i+1}: {arr}\")\n",
        "    end_time = time.time()\n",
        "    print(f\"\\nWaktu komputasi: {end_time - start_time} detik\")\n",
        "    print(f\"Hasil setelah pengurutan: {arr}\")\n",
        "\n",
        "def main():\n",
        "    arr = [12, 99, 62, 15, 20, 95, 39, 48, 3, 24, 8, 43, 74, 19, 97, 33, 49, 68, 55, 33, 90, 90, 7,\n",
        "           26, 85, 46, 39, 40, 9, 36, 60, 64, 89, 31, 25, 71, 21, 23, 63, 84, 32, 5, 3, 44, 21, 10, 21,\n",
        "           17, 50, 2, 36, 53, 79, 54, 19, 88, 1, 32, 31, 15, 6, 3, 1, 40, 22, 43, 18, 1, 77, 9, 59,\n",
        "           40, 7, 41, 81]\n",
        "    print(\"Agym Mahaputra Romy Barlianta_F55121076_B\")\n",
        "    print(\"Daftar sebelum pengurutan:\", arr)\n",
        "\n",
        "    choice = input(\"Pilih metode pengurutan (bubble/insertion): \")\n",
        "    if choice == \"bubble\":\n",
        "        print(\"\\nBubble Sort:\")\n",
        "        bubble_sort(arr.copy())\n",
        "    elif choice == \"insertion\":\n",
        "        print(\"\\nInsertion Sort:\")\n",
        "        insertion_sort(arr.copy())\n",
        "    else:\n",
        "        print(\"Pilihan tidak valid. Silakan pilih antara bubble atau insertion.\")\n",
        "\n",
        "if __name__ == '__main__':\n",
        "    main()\n"
      ]
    }
  ]
}